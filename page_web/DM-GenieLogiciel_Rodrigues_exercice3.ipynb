{
 "cells": [
  {
   "cell_type": "markdown",
   "metadata": {},
   "source": [
    "# Devoir Maison Génie Logiciel\n",
    "\n",
    "Master LLCER - parcours TAL\n",
    "Nicolas Gutehrlé\n",
    "\n",
    "## Modalités\n",
    "\n",
    "Les exercices sont à réaliser idéalement dans des fichiers notebook (.ipynb), mais certains exercices permettent d'employer des fichiers Python (.py) (voir les énoncés)\n",
    "\n",
    "Vous pourrez rendre ce devoir en le déposant sur GitHub et en transmettant le lien vers le dépôt Git. Vous pourrez rendre un dossier contenant tous les exercices que vous aurez créés. Pour simplifier l'envoi, n'hésitez pas à zipper ce dossier. Si votre fichier zip est trop lourd pour être envoyé par mail, n'hésitez pas à l'envoyer via WeTransfert.\n",
    "\n",
    "Chaque exercice vaut 6 points. 2 points bonus pourront être alloués pour la clarté et l'explication du code, ainsi que pour le dépôt du code sur GitHub.\n",
    "\n",
    "Le plagiat, c'est-à-dire la copie directe des supports de cours sera sanctionnée.\n",
    "\n",
    "L’utilisation d’Internet ainsi que des supports de cours est autorisée. Le travail est strictement personnel. L’évaluation portera sur la compréhension des notions du cours qui sera démontrée par l’étudiant. Un entretien oral est possible suite à l’examen pour préciser la note.\n",
    "\n",
    "Ce devoir est à rendre au plus tard par mail à **nicolas.gutehrle@univ-fcomte.fr** pour le **Lundi 4 décembre**. Tout jour de retard entraînera la perte d'un point sur la note finale. Tout devoir rendu au-delà du **Lundi 11 décembre** ne sera pas accepté.\n",
    "\n",
    "---"
   ]
  },
  {
   "cell_type": "markdown",
   "metadata": {},
   "source": [
    "## Exercice 3 (6 points)\n",
    "\n",
    "Dans cet exercice, vous réaliserez une interface web avec Flask, qui permettra d'accéder et de manipuler vos données, ainsi que de les visualiser :\n",
    "* L'interface ne sera composée que d'une seule page HTML. Cette page doit se mettre à jour en fonction des requêtes envoyées\n",
    "* Afin d'intéragir avec la base de données, l'interface doit soit comportant un champ texte, soit permettre de sélectionner des phrases\n",
    "* L'interface doit permettre les deux requêtes suivantes :\n",
    "    * retourner toutes les données\n",
    "    * retourner des données spécifiques\n",
    "* L'interface doit comporter au moins un élément de visualisation, qui affiche via un diagramme à barres la distribution de vos données. Si possible, vous semble utile, ou bien que le diagramme à barre ne corresponde pas à vos données, n'hésitez pas à utiliser d'autres types de graphiques\n",
    "* Le graphique doit être responsif et intéractif, et proposer plusieurs outils pour le manipuler\n",
    "* Les graphique doit s'adapter aux données retournées par les requêtes"
   ]
  },
  {
   "cell_type": "code",
   "execution_count": null,
   "metadata": {},
   "outputs": [],
   "source": [
    "# Réponses :\n",
    "\n",
    "# Rétablir la base de données originale après les modifications de l'exercice 2 avant de créer la page web:\n",
    "\n",
    "# Effacer la base de données modifiée: dans MySQL, ouvrir et lancer le script: \"../dialectes_drop.sql\".\n",
    "# Rétablir la base de données originale: dans MySQL, ouvrir et lancer le script \"../dialectes.sql\""
   ]
  },
  {
   "cell_type": "code",
   "execution_count": null,
   "metadata": {},
   "outputs": [],
   "source": [
    "# Installer Flask:\n",
    "!pip install Flask"
   ]
  },
  {
   "cell_type": "code",
   "execution_count": null,
   "metadata": {},
   "outputs": [],
   "source": [
    "# Installation de Bokeh:\n",
    "!pip install bokeh"
   ]
  },
  {
   "cell_type": "code",
   "execution_count": null,
   "metadata": {},
   "outputs": [],
   "source": [
    "# N.B.1: Il faut ouvrir un terminal et lancer, à partir du dossier \"app\", le script \"page.py\" pour \n",
    "# connecter la base de données \"dialectes\" à l'API Flask, avec le commande: python page.py\n",
    "# Dans les cellules qui suivent, je donne les adresses qui correspondent à chaque action, et te renvoie\n",
    "# aux fonctions correspondantes dans le fichier \"page.py\".\n",
    "\n",
    "# N.B.2: variables \"user_input\" et \"password\" dans le fichier \"app/page.py\" sont à changer par les tiens, \n",
    "# car actuellement il ne sont que des placeholders."
   ]
  },
  {
   "cell_type": "code",
   "execution_count": null,
   "metadata": {},
   "outputs": [],
   "source": [
    "# Visitez l'adresse à partir de laquelle l'utilisateur peut faire des choix sur l'affichage d'une seule entrée\n",
    "# ou de la totalité des entrées de la base de données. La fonction correspondante dans \"app/page.py\" est \"dialectes()\", qui amène à\n",
    "# \"dialectes_choix()\", et cette dernière à d'autres selon le choix de l'utilisateur (api_phrases_all() pour toutes les entrées et\n",
    "# api_textetransclasse() pour les données d'une seule entrée):\n",
    "\n",
    "http://127.0.0.1:5000/dialectes\n",
    "\n",
    "# (1) Pour voir l'affichage spécifique d'une seule entrée choisie par son identifiant, remplissez la case\n",
    "# avec un chiffre entre 1-20 (20 étant le nombre d'entrées de la base). Les données de texte, transcripton \n",
    "# et dialecte de l'entrée seront montrées dans un tableau.\n",
    "\n",
    "# (2) Pour voir l'affichage de toute la base, revenez à l'adresse URL ci-dessus et remplissez la case\n",
    "# avec un chiffre supérieur à 20 (20 étant le nombre d'entrées de la base).\n",
    "# Dans cette page vous aurez l'occasion de manipuler le graphique responsive de nombre d'entrées par dialecte et le\n",
    "# tableau qui montre texte, transcripton et dialecte de toutes les entrées. Manipulations du graphique: glisser \n",
    "# le plot latéralement, zoommer, sélectionner et remise à zéro. Manipulations du tableau: ajustement de largeur des \n",
    "# colonnes, changement d'ordre d'entrées possible avec des flèches dans les titres de colonnes. On peut aussi faire \n",
    "# défiler le tableau."
   ]
  }
 ],
 "metadata": {
  "kernelspec": {
   "display_name": "Python 3",
   "language": "python",
   "name": "python3"
  },
  "language_info": {
   "codemirror_mode": {
    "name": "ipython",
    "version": 3
   },
   "file_extension": ".py",
   "mimetype": "text/x-python",
   "name": "python",
   "nbconvert_exporter": "python",
   "pygments_lexer": "ipython3",
   "version": "3.10.8"
  },
  "orig_nbformat": 4
 },
 "nbformat": 4,
 "nbformat_minor": 2
}
